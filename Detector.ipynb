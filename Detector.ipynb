{
 "cells": [
  {
   "cell_type": "code",
   "execution_count": 45,
   "metadata": {},
   "outputs": [],
   "source": [
    "import cv2 as cv\n",
    "import imutils\n",
    "import numpy as np"
   ]
  },
  {
   "cell_type": "code",
   "execution_count": 46,
   "metadata": {},
   "outputs": [],
   "source": [
    "def LPD(img,padding=50):\n",
    "    #? Step 1: Edge Detection\n",
    "    gray = cv.cvtColor(img, cv.COLOR_BGR2GRAY)\n",
    "    gray = gray[gray.shape[0]//2:gray.shape[0],:]\n",
    "    gray = cv.GaussianBlur(gray, (3,3), 1)\n",
    "    rectKern = cv.getStructuringElement(cv.MORPH_RECT, (5,5))\n",
    "    # The Black Hat operation is the difference between the closing and input image \n",
    "    blackhat = cv.morphologyEx(gray, cv.MORPH_BLACKHAT, rectKern)\n",
    "    # Concatenate \"gray\" and \"blackhat\" horizontally\n",
    "    combined_img = np.concatenate((gray, blackhat), axis=1)\n",
    "\n",
    "    # Display the combined image\n",
    "    cv.imshow(\"Combined Images\", combined_img)\n",
    "    \n",
    "    \n",
    "    \n",
    "    # sobelx = cv.Sobel(blackhat, cv.CV_64F, 1, 0, ksize=3)\n",
    "\n",
    "    # # Calculate the gradient magnitude\n",
    "\n",
    "    # sobelx = np.absolute(sobelx)\n",
    "    # maxVal = np.max(sobelx)\n",
    "    # sobelx = 255 * ((sobelx) / (maxVal))\n",
    "    # sobelx = sobelx.astype(\"uint8\")\n",
    "    # #cv.imshow(\"grad\", sobelx)\n",
    "    \n",
    "    \n",
    "    # closeKern = cv.getStructuringElement(cv.MORPH_RECT, (11,11))\n",
    "    \n",
    "    # closed_image = cv.morphologyEx(sobelx, cv.MORPH_CLOSE, closeKern)\n",
    "    # #cv.imshow(\"closed\", closed_image)\n",
    "    # thresh = cv.threshold(closed_image, 0, 255,cv.THRESH_BINARY | cv.THRESH_OTSU)[1]\n",
    "    # #cv.imshow(\"thresh\", thresh)\n",
    "    \n",
    "    # Eroded_img = cv.erode(thresh, (3,3), iterations=2)\n",
    "    # #cv.imshow(\"eroded\", Eroded_img)\n",
    "    # Dilated_img = cv.dilate(Eroded_img, (3,3), iterations=3)\n",
    "    # #cv.imshow(\"dilated\", Dilated_img)\n",
    "    \n",
    "    # cnts = cv.findContours(thresh.copy(), cv.RETR_EXTERNAL,cv.CHAIN_APPROX_SIMPLE)\n",
    "    # cnts = imutils.grab_contours(cnts)\n",
    "    # cnts = sorted(cnts, key=cv.contourArea, reverse=True)\n",
    "\n",
    "    # filtered_cnts = []\n",
    "    # roi = None\n",
    "\n",
    "    # for countour in cnts: \n",
    "    #     area = cv.contourArea(countour)\n",
    "    #     (x, y, w, h) = cv.boundingRect(countour)\n",
    "    #     ar = w / float(h)\n",
    "    #     if (ar>=2.5 and ar<=5):\n",
    "    #         filtered_cnts.append(countour)\n",
    "    #         licensePlate = gray[y:y + h + padding, x:x + w + padding]\n",
    "    #         roi = cv.threshold(licensePlate, 0, 255,cv.THRESH_BINARY_INV | cv.THRESH_OTSU)[1]\n",
    "\n",
    "    #         cv.imshow(\"License Plate\", licensePlate)\n",
    "    #         # cv.imshow(\"ROI\", roi)\n",
    "    #         break\n",
    "\n",
    "    # # cv.drawContours(img[img.shape[0]//2:img.shape[0],:], filtered_cnts, -1, (0,255,0), 3)\n",
    "    # cv.imshow(\"contours\", img)  \n",
    "    \n",
    "    "
   ]
  },
  {
   "cell_type": "code",
   "execution_count": 47,
   "metadata": {},
   "outputs": [
    {
     "data": {
      "text/plain": [
       "-1"
      ]
     },
     "execution_count": 47,
     "metadata": {},
     "output_type": "execute_result"
    }
   ],
   "source": [
    "LPD(cv.imread(\"0014.jpg\"))\n",
    "cv.waitKey(0)"
   ]
  }
 ],
 "metadata": {
  "kernelspec": {
   "display_name": "base",
   "language": "python",
   "name": "python3"
  },
  "language_info": {
   "codemirror_mode": {
    "name": "ipython",
    "version": 3
   },
   "file_extension": ".py",
   "mimetype": "text/x-python",
   "name": "python",
   "nbconvert_exporter": "python",
   "pygments_lexer": "ipython3",
   "version": "3.9.12"
  }
 },
 "nbformat": 4,
 "nbformat_minor": 2
}
